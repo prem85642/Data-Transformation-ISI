{
  "nbformat": 4,
  "nbformat_minor": 0,
  "metadata": {
    "colab": {
      "provenance": [],
      "toc_visible": true
    },
    "kernelspec": {
      "name": "python3",
      "display_name": "Python 3"
    },
    "language_info": {
      "name": "python"
    }
  },
  "cells": [
    {
      "cell_type": "code",
      "execution_count": 9,
      "metadata": {
        "colab": {
          "base_uri": "https://localhost:8080/"
        },
        "id": "wOV8P_39bfbm",
        "outputId": "6b3a8bdb-10b2-4b36-b5c1-fd3a1af152ae"
      },
      "outputs": [
        {
          "output_type": "stream",
          "name": "stdout",
          "text": [
            "Initial DataFrame:\n",
            "      Name   Age   Salary Department\n",
            "0    Alice  25.0  50000.0         HR\n",
            "1      Bob   NaN  60000.0         IT\n",
            "2  Charlie  30.0      NaN    Finance\n",
            "3    David  28.0  55000.0        NaN\n",
            "4      Eve  35.0  80000.0      Sales\n",
            "\n",
            "Transformed DataFrame:\n",
            "      Name   Age  Salary     Dept\n",
            "0    Alice  25.0   50000       HR\n",
            "1      Bob  29.5   60000       IT\n",
            "2  Charlie  30.0   57500  Finance\n",
            "4      Eve  35.0   80000    Sales\n"
          ]
        },
        {
          "output_type": "stream",
          "name": "stderr",
          "text": [
            "<ipython-input-9-d9b4d3c9d8ee>:10: FutureWarning: A value is trying to be set on a copy of a DataFrame or Series through chained assignment using an inplace method.\n",
            "The behavior will change in pandas 3.0. This inplace method will never work because the intermediate object on which we are setting values always behaves as a copy.\n",
            "\n",
            "For example, when doing 'df[col].method(value, inplace=True)', try using 'df.method({col: value}, inplace=True)' or df[col] = df[col].method(value) instead, to perform the operation inplace on the original object.\n",
            "\n",
            "\n",
            "  df['Age'].fillna(df['Age'].mean(), inplace=True)\n",
            "<ipython-input-9-d9b4d3c9d8ee>:13: FutureWarning: A value is trying to be set on a copy of a DataFrame or Series through chained assignment using an inplace method.\n",
            "The behavior will change in pandas 3.0. This inplace method will never work because the intermediate object on which we are setting values always behaves as a copy.\n",
            "\n",
            "For example, when doing 'df[col].method(value, inplace=True)', try using 'df.method({col: value}, inplace=True)' or df[col] = df[col].method(value) instead, to perform the operation inplace on the original object.\n",
            "\n",
            "\n",
            "  df['Salary'].fillna(df['Salary'].median(), inplace=True)\n"
          ]
        }
      ],
      "source": [
        "import pandas as pd\n",
        "\n",
        "\n",
        "df = pd.read_csv('//content/data.csv')\n",
        "\n",
        "\n",
        "print(\"Initial DataFrame:\")\n",
        "print(df)\n",
        "\n",
        "df['Age'].fillna(df['Age'].mean(), inplace=True)\n",
        "\n",
        "\n",
        "df['Salary'].fillna(df['Salary'].median(), inplace=True)\n",
        "\n",
        "\n",
        "df.dropna(subset=['Department'], inplace=True)\n",
        "\n",
        "df['Salary'] = df['Salary'].astype(int)\n",
        "\n",
        "\n",
        "df.rename(columns={'Department': 'Dept'}, inplace=True)\n",
        "\n",
        "\n",
        "print(\"\\nTransformed DataFrame:\")\n",
        "print(df)\n"
      ]
    },
    {
      "cell_type": "code",
      "source": [],
      "metadata": {
        "id": "ufQwklC8cUa0"
      },
      "execution_count": null,
      "outputs": []
    }
  ]
}